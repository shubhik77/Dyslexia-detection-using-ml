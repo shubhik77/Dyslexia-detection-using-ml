{
 "cells": [
  {
   "cell_type": "code",
   "execution_count": 1,
   "metadata": {},
   "outputs": [
    {
     "name": "stdout",
     "output_type": "stream",
     "text": [
      "Best value of n_estimator for RandomForest model is:\n",
      "{'n_estimators': 100}\n"
     ]
    }
   ],
   "source": [
    "from final import model\n",
    "import numpy as np"
   ]
  },
  {
   "cell_type": "code",
   "execution_count": 2,
   "metadata": {},
   "outputs": [
    {
     "name": "stdout",
     "output_type": "stream",
     "text": [
      "Our model uses RandomForestClassifier with GridSearchCV to predict values from the given data.\n",
      "(Our model makes precitions with an error rate of 5.80%.)\n",
      "\n"
     ]
    }
   ],
   "source": [
    "#Giving user description of model\n",
    "print(\"Our model uses RandomForestClassifier with GridSearchCV to predict values from the given data.\")\n",
    "print(\"(Our model makes precitions with an error rate of 5.80%.)\\n\")"
   ]
  },
  {
   "cell_type": "code",
   "execution_count": 3,
   "metadata": {},
   "outputs": [
    {
     "name": "stdout",
     "output_type": "stream",
     "text": [
      "\n",
      "The scores of all the tests in quiz as well as survey need to be entered.\n",
      "All the values lie in the range 0 to 1.\n",
      "\n"
     ]
    },
    {
     "ename": "ValueError",
     "evalue": "could not convert string to float: ''",
     "output_type": "error",
     "traceback": [
      "\u001b[1;31m---------------------------------------------------------------------------\u001b[0m",
      "\u001b[1;31mValueError\u001b[0m                                Traceback (most recent call last)",
      "\u001b[1;32m<ipython-input-3-7e1bf00140dd>\u001b[0m in \u001b[0;36m<module>\u001b[1;34m\u001b[0m\n\u001b[0;32m      3\u001b[0m \u001b[0mprint\u001b[0m\u001b[1;33m(\u001b[0m\u001b[1;34m\"\\nThe scores of all the tests in quiz as well as survey need to be entered.\"\u001b[0m\u001b[1;33m)\u001b[0m\u001b[1;33m\u001b[0m\u001b[1;33m\u001b[0m\u001b[0m\n\u001b[0;32m      4\u001b[0m \u001b[0mprint\u001b[0m\u001b[1;33m(\u001b[0m\u001b[1;34m\"All the values lie in the range 0 to 1.\\n\"\u001b[0m\u001b[1;33m)\u001b[0m\u001b[1;33m\u001b[0m\u001b[1;33m\u001b[0m\u001b[0m\n\u001b[1;32m----> 5\u001b[1;33m \u001b[0mlang_vocab\u001b[0m \u001b[1;33m=\u001b[0m \u001b[0mfloat\u001b[0m\u001b[1;33m(\u001b[0m\u001b[0minput\u001b[0m\u001b[1;33m(\u001b[0m\u001b[1;34m\"Enter the score of Language Vocab test: \"\u001b[0m\u001b[1;33m)\u001b[0m\u001b[1;33m)\u001b[0m\u001b[1;33m\u001b[0m\u001b[1;33m\u001b[0m\u001b[0m\n\u001b[0m\u001b[0;32m      6\u001b[0m \u001b[0mmemory\u001b[0m \u001b[1;33m=\u001b[0m \u001b[0mfloat\u001b[0m\u001b[1;33m(\u001b[0m\u001b[0minput\u001b[0m\u001b[1;33m(\u001b[0m\u001b[1;34m\"Enter the score of Memory test: \"\u001b[0m\u001b[1;33m)\u001b[0m\u001b[1;33m)\u001b[0m\u001b[1;33m\u001b[0m\u001b[1;33m\u001b[0m\u001b[0m\n\u001b[0;32m      7\u001b[0m \u001b[0mspeed\u001b[0m \u001b[1;33m=\u001b[0m \u001b[0mfloat\u001b[0m\u001b[1;33m(\u001b[0m\u001b[0minput\u001b[0m\u001b[1;33m(\u001b[0m\u001b[1;34m\"Enter the score of Speed test: \"\u001b[0m\u001b[1;33m)\u001b[0m\u001b[1;33m)\u001b[0m\u001b[1;33m\u001b[0m\u001b[1;33m\u001b[0m\u001b[0m\n",
      "\u001b[1;31mValueError\u001b[0m: could not convert string to float: ''"
     ]
    }
   ],
   "source": [
    "#Getting input from user\n",
    "name = input(\"Enter name of appllicant: \")\n",
    "print(\"\\nThe scores of all the tests in quiz as well as survey need to be entered.\")\n",
    "print(\"All the values lie in the range 0 to 1.\\n\")\n",
    "lang_vocab = float(input(\"Enter the score of Language Vocab test: \"))\n",
    "memory = float(input(\"Enter the score of Memory test: \"))\n",
    "speed = float(input(\"Enter the score of Speed test: \"))\n",
    "visual = float(input(\"Enter the score of Visual Discrimination test: \"))\n",
    "audio = float(input(\"Enter the score of Audio Discrimination test: \"))\n",
    "survey = float(input(\"Enter the score obtained from Survey: \"))"
   ]
  },
  {
   "cell_type": "code",
   "execution_count": null,
   "metadata": {
    "collapsed": true
   },
   "outputs": [],
   "source": [
    "#Creating a 2D array from the given scores.\n",
    "#Input taken by our model is a 2D array.\n",
    "#get_result function can be run to get result from the survey.\n",
    "def get_result(lang_vocab, memory, speed, visual, audio, survey):\n",
    "    #2D numpy array created with the values input by the user.\n",
    "    array = np.array([[lang_vocab, memory, speed, visual, audio, survey]])\n",
    "    #The output given by model is converted into an int and stored in label.\n",
    "    label = int(model.predict(array))\n",
    "    #Giving final output to user depending upon the model prediction.\n",
    "    if(label == 0):\n",
    "        output = \"There is a high chance of the applicant to have dyslexia.\"\n",
    "    elif(label == 1):\n",
    "        output = \"There is a moderate chance of the applicant to have dyslexia.\"\n",
    "    else:\n",
    "        output = \"There is a low chance of the applicant to have dyslexia.\"\n",
    "    return output"
   ]
  },
  {
   "cell_type": "code",
   "execution_count": null,
   "metadata": {},
   "outputs": [
    {
     "name": "stderr",
     "output_type": "stream",
     "text": [
      "c:\\Python311\\lib\\site-packages\\sklearn\\base.py:465: UserWarning: X does not have valid feature names, but RandomForestClassifier was fitted with feature names\n",
      "  warnings.warn(\n"
     ]
    },
    {
     "data": {
      "text/plain": [
       "'There is a low chance of the applicant to have dyslexia.'"
      ]
     },
     "execution_count": 10,
     "metadata": {},
     "output_type": "execute_result"
    }
   ],
   "source": [
    "get_result(lang_vocab, memory, speed, visual, audio, survey)\n"
   ]
  }
 ],
 "metadata": {
  "kernelspec": {
   "display_name": "Python 3",
   "language": "python",
   "name": "python3"
  },
  "language_info": {
   "codemirror_mode": {
    "name": "ipython",
    "version": 3
   },
   "file_extension": ".py",
   "mimetype": "text/x-python",
   "name": "python",
   "nbconvert_exporter": "python",
   "pygments_lexer": "ipython3",
   "version": "3.8.1"
  }
 },
 "nbformat": 4,
 "nbformat_minor": 4
}
